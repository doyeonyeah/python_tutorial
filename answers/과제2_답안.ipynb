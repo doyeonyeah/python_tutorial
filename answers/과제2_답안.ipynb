{
 "cells": [
  {
   "cell_type": "markdown",
   "metadata": {
    "id": "Muc2whX82DgF"
   },
   "source": [
    "# 1. 제시된 변수 '원주율'의 결과값이 정수 자리까지만 출력되도록 코드를 완성해보세요."
   ]
  },
  {
   "cell_type": "code",
   "execution_count": 1,
   "metadata": {
    "id": "O94b3e962DgH"
   },
   "outputs": [],
   "source": [
    "원주율 = 3.141592"
   ]
  },
  {
   "cell_type": "markdown",
   "metadata": {
    "id": "i6l33ZGzepTA"
   },
   "source": [
    "# 2. 인사말을 완성할 수 있도록 아래 코드를 완성해주세요."
   ]
  },
  {
   "cell_type": "code",
   "execution_count": 2,
   "metadata": {
    "id": "pDno75nae188"
   },
   "outputs": [
    {
     "name": "stdout",
     "output_type": "stream",
     "text": [
      "안녕하세요. 제 이름은  입니다.\n"
     ]
    }
   ],
   "source": [
    "my_name = ''\n",
    "\n",
    "print('안녕하세요. 제 이름은 {} 입니다.'.format(my_name))"
   ]
  },
  {
   "cell_type": "markdown",
   "metadata": {
    "id": "XLejFPFIfBkV"
   },
   "source": [
    "# 3. 아래 코드의 출력값이 3이 나올 수 있도록, 코드를 작성해보세요."
   ]
  },
  {
   "cell_type": "code",
   "execution_count": 3,
   "metadata": {
    "id": "DV4fc9JTgXdl"
   },
   "outputs": [],
   "source": [
    "a = '1'\n",
    "b = '2'\n",
    "# 이 셀은 수정하지 않습니다."
   ]
  },
  {
   "cell_type": "code",
   "execution_count": 4,
   "metadata": {
    "colab": {
     "base_uri": "https://localhost:8080/"
    },
    "executionInfo": {
     "elapsed": 524,
     "status": "ok",
     "timestamp": 1622572389816,
     "user": {
      "displayName": "Paulo Song",
      "photoUrl": "https://lh3.googleusercontent.com/a-/AOh14Gi8Y2-OILsORnOMnKUgQG-JpsNNP2ahBZx23RHw=s64",
      "userId": "12824946174607000555"
     },
     "user_tz": -540
    },
    "id": "B3dzvVulgbHJ",
    "outputId": "6b5385e1-13ae-46f7-bfde-280813711dea"
   },
   "outputs": [
    {
     "name": "stdout",
     "output_type": "stream",
     "text": [
      "12\n"
     ]
    }
   ],
   "source": [
    "# 아래에 코드를 작성해주세요.\n",
    "\n",
    "\n",
    "print(a + b)"
   ]
  },
  {
   "cell_type": "markdown",
   "metadata": {
    "id": "XmSnWhtP2DgJ"
   },
   "source": [
    "# 4. 다음 문자열의 '별'이 '달'로 바뀌어 출력되도록, 코드를 완성해보세요."
   ]
  },
  {
   "cell_type": "code",
   "execution_count": 5,
   "metadata": {
    "id": "MxEFty7t2DgJ"
   },
   "outputs": [
    {
     "name": "stdout",
     "output_type": "stream",
     "text": [
      "어제는 별이 졌다네 나의 가슴이 무너졌네\n",
      "별은 그저 별일 뿐이야 모두들 내게 말하지만\n",
      "오늘도 별이 진다네 아름다운 나의 별 하나\n",
      "별이 지면 하늘도 슬퍼 이렇게 비만 내리는 거야\n",
      "나의 가슴 속에 젖어오는 그대 그리움 만이\n",
      "이 밤도 저 비 되어 나를 또 울리고\n",
      "아름다웠던 우리 옛 일을 생각해 보면\n",
      "나의 애타는 사랑 돌아올 것 같은데\n",
      "나의 꿈은 사라져가고 슬픔 만이 깊어가는데\n",
      "나의 별은 사라지고 어둠 만이 짙어가는데\n"
     ]
    }
   ],
   "source": [
    "sketch = '''어제는 별이 졌다네 나의 가슴이 무너졌네\n",
    "별은 그저 별일 뿐이야 모두들 내게 말하지만\n",
    "오늘도 별이 진다네 아름다운 나의 별 하나\n",
    "별이 지면 하늘도 슬퍼 이렇게 비만 내리는 거야\n",
    "나의 가슴 속에 젖어오는 그대 그리움 만이\n",
    "이 밤도 저 비 되어 나를 또 울리고\n",
    "아름다웠던 우리 옛 일을 생각해 보면\n",
    "나의 애타는 사랑 돌아올 것 같은데\n",
    "나의 꿈은 사라져가고 슬픔 만이 깊어가는데\n",
    "나의 별은 사라지고 어둠 만이 짙어가는데'''\n",
    "\n",
    "print(sketch)"
   ]
  },
  {
   "cell_type": "markdown",
   "metadata": {
    "id": "LUxD9FI2hCZd"
   },
   "source": [
    "# 5. 아래 문자열이 총 몇글자로 이루어져있는지, 계산해보세요."
   ]
  },
  {
   "cell_type": "code",
   "execution_count": 6,
   "metadata": {
    "id": "ZQmcaMpVhO7n"
   },
   "outputs": [],
   "source": [
    "paragraph = '''\n",
    "나라의 말이 중국과 달라 한문·한자와 서로 통하지 아니하므로\n",
    " 이런 까닭으로 어리석은 백성이 이르고자 하는 바가 있어도 \n",
    " 끝내 제 뜻을 능히 펴지 못하는 사람이 많다.\n",
    " 내가 이를 위해 불쌍히 여겨 새로 스물여덟 글자를 만드니\n",
    " 사람마다 하여금 쉬이 익혀 날마다 씀에 편안케 하고자 할 따름이다.\n",
    " '''"
   ]
  },
  {
   "cell_type": "code",
   "execution_count": 7,
   "metadata": {
    "id": "qfrvV5bPjVY_"
   },
   "outputs": [
    {
     "name": "stdout",
     "output_type": "stream",
     "text": [
      "169\n"
     ]
    }
   ],
   "source": [
    "# 아래에 수식을 작성해주세요.\n",
    "sentence_count = len(paragraph)\n",
    "\n",
    "print(sentence_count)"
   ]
  },
  {
   "cell_type": "markdown",
   "metadata": {
    "id": "GDwCzCfci2p1"
   },
   "source": [
    "# 6. 아래 노래 가사에서 '두치'가 몇 번 쓰여져 있는 지 계산해보세요."
   ]
  },
  {
   "cell_type": "code",
   "execution_count": 8,
   "metadata": {
    "id": "KZVWcun5jD2V"
   },
   "outputs": [],
   "source": [
    "lyrics = '''\n",
    "한치두치세치네치 뿌꾸빵! 뿌꾸빵!\n",
    "한치두치세치네치 뿌꾸뿌꾸빵빵!\n",
    "\n",
    "달리는 두치 손 내밀면 잡을 수 있고\n",
    "어려울 때 있어주는 내 친구 두치!\n",
    "(뿌꾸뿌꾸 나도나도~)\n",
    "\n",
    "작은 키라고 놀리면 난 정말 싫어\n",
    "키는 작지만 깊은 생각 큰 꿈이 있어\n",
    "(뿌꾸뿌꾸 나도나도~)\n",
    "\n",
    "날마다 자라는 키만큼\n",
    "날마다 꿈도 자란다\n",
    "멋진 내 친구 두치와 귀여운 뿌꾸~\n",
    "\n",
    "한치두치세치네치 뿌꾸빵! 뿌꾸빵!\n",
    "한치두치세치네치 뿌꾸뿌꾸빵빵!\n",
    "\n",
    "두치와 뿌꾸~\n",
    "'''"
   ]
  },
  {
   "cell_type": "code",
   "execution_count": 9,
   "metadata": {
    "id": "mq3j49J2jLpg"
   },
   "outputs": [
    {
     "data": {
      "text/plain": [
       "3"
      ]
     },
     "execution_count": 9,
     "metadata": {},
     "output_type": "execute_result"
    }
   ],
   "source": [
    "# 이곳에 답안 코드를 작성해주세요.\n",
    "\n",
    "lyrics.find('두치')"
   ]
  },
  {
   "cell_type": "markdown",
   "metadata": {
    "id": "skJntb1g2DgL"
   },
   "source": [
    "# 7. 아래 코드의 오류를 수정하고, 출력 되지 않았던 이유를 코드 아래에 주석으로 달아보세요."
   ]
  },
  {
   "cell_type": "code",
   "execution_count": 10,
   "metadata": {
    "id": "71h7Nhk02DgL",
    "scrolled": false
   },
   "outputs": [
    {
     "name": "stdout",
     "output_type": "stream",
     "text": [
      "{'a': '인화원', 2: 'LG전자', '오산': 'LG화학', 201234: 'LGCNS', 'lim': 'LG상사'}\n"
     ]
    }
   ],
   "source": [
    "# dic = {'a':'인화원', 2:'LG전자', '오산':'LG화학', 201234: 'LGCNS', [lim]:'LG상사'}\n",
    "dic = {'a':'인화원', 2:'LG전자', '오산':'LG화학', 201234: 'LGCNS', 'lim':'LG상사'}\n",
    "print(dic)\n",
    "# 출력되지 않은 이유는?\n",
    "# 리스트 [lim]이 정의되어 있지 않음."
   ]
  },
  {
   "cell_type": "markdown",
   "metadata": {
    "id": "-lXZprKS2DgL"
   },
   "source": [
    "# 8. 아래 두 변수들의 값이 맞바뀌어 (200, 40) tuple 형태로 출력되도록 코드를 완성해보세요."
   ]
  },
  {
   "cell_type": "code",
   "execution_count": 11,
   "metadata": {
    "id": "tKKlcyHF2DgL"
   },
   "outputs": [
    {
     "data": {
      "text/plain": [
       "(200, 40)"
      ]
     },
     "execution_count": 11,
     "metadata": {},
     "output_type": "execute_result"
    }
   ],
   "source": [
    "va = 40\n",
    "vb = 200\n",
    "\n",
    "(vb, va)"
   ]
  },
  {
   "cell_type": "markdown",
   "metadata": {
    "id": "nSgpr92fjkru"
   },
   "source": [
    "# 9. 아래 데이터는 어떤 농구선수의 경기 별 슛 성공 횟수입니다. 아래 값을 구해보세요.\n",
    "\n"
   ]
  },
  {
   "cell_type": "code",
   "execution_count": 12,
   "metadata": {
    "id": "LITSCsFxkzmD"
   },
   "outputs": [],
   "source": [
    "shot_count = [7, 8, 4, 9, 11, 3, 2]"
   ]
  },
  {
   "cell_type": "code",
   "execution_count": 13,
   "metadata": {
    "id": "f8uxxNOh2DgM"
   },
   "outputs": [
    {
     "data": {
      "text/plain": [
       "44"
      ]
     },
     "execution_count": 13,
     "metadata": {},
     "output_type": "execute_result"
    }
   ],
   "source": [
    "# 1) 모든 경기 슛 성공 횟수\n",
    "sum(shot_count)"
   ]
  },
  {
   "cell_type": "code",
   "execution_count": 14,
   "metadata": {
    "id": "tdD2rkJ5mhKp"
   },
   "outputs": [
    {
     "data": {
      "text/plain": [
       "11"
      ]
     },
     "execution_count": 14,
     "metadata": {},
     "output_type": "execute_result"
    }
   ],
   "source": [
    "# 2) 가장 높은 성공 횟수\n",
    "max(shot_count)"
   ]
  },
  {
   "cell_type": "code",
   "execution_count": 15,
   "metadata": {
    "id": "nuSahpXplqtv"
   },
   "outputs": [
    {
     "data": {
      "text/plain": [
       "2"
      ]
     },
     "execution_count": 15,
     "metadata": {},
     "output_type": "execute_result"
    }
   ],
   "source": [
    "# 3) 가장 낮은 횟수\n",
    "min(shot_count)"
   ]
  },
  {
   "cell_type": "code",
   "execution_count": 16,
   "metadata": {
    "id": "7glVCswfnT6n"
   },
   "outputs": [
    {
     "data": {
      "text/plain": [
       "[7, 8, 4, 9, 11, 3, 2, 10]"
      ]
     },
     "execution_count": 16,
     "metadata": {},
     "output_type": "execute_result"
    }
   ],
   "source": [
    "# 4) 오늘 경기에서 10회를 성공시켰다. 데이터를 추가하여 출력해보세요.\n",
    "shot_count.append(10)\n",
    "shot_count"
   ]
  },
  {
   "cell_type": "code",
   "execution_count": 17,
   "metadata": {
    "id": "_9ok2ZoYnhPS"
   },
   "outputs": [
    {
     "data": {
      "text/plain": [
       "[2, 3, 4, 7, 8, 9, 10, 11]"
      ]
     },
     "execution_count": 17,
     "metadata": {},
     "output_type": "execute_result"
    }
   ],
   "source": [
    "# 5) 오늘 경기 결과를 포함하여, 내림차순으로 정렬하여 출력해보세요.\n",
    "shot_count.sort()\n",
    "shot_count"
   ]
  },
  {
   "cell_type": "markdown",
   "metadata": {
    "id": "kNEtzkq-pTCR"
   },
   "source": [
    "# 10. 다음은 학생들의 번호, 이름, 과목별 성적 데이터 입니다. 아래 값을 구해보세요."
   ]
  },
  {
   "cell_type": "code",
   "execution_count": 18,
   "metadata": {
    "id": "CiAL82vOpX4d"
   },
   "outputs": [],
   "source": [
    "mid_term = [\n",
    "               {'num':'1','name':'노준규','kor':90,'eng':80,'math':85,},\n",
    "               {'num':'2','name':'고강민','kor':90,'eng':85,'math':90,},\n",
    "               {'num':'3','name':'김성대','kor':80,'eng':80,'math':80,}\n",
    "           ]"
   ]
  },
  {
   "cell_type": "code",
   "execution_count": 19,
   "metadata": {
    "id": "4q65ZaZ5pjdI"
   },
   "outputs": [
    {
     "data": {
      "text/plain": [
       "{'num': '3', 'name': '김성대', 'kor': 80, 'eng': 80, 'math': 80}"
      ]
     },
     "execution_count": 19,
     "metadata": {},
     "output_type": "execute_result"
    }
   ],
   "source": [
    "# 세번째 학생의 이름을 출력해보세요.\n",
    "mid_term[2]"
   ]
  },
  {
   "cell_type": "code",
   "execution_count": 20,
   "metadata": {
    "id": "x558WvlypoWt"
   },
   "outputs": [
    {
     "data": {
      "text/plain": [
       "90"
      ]
     },
     "execution_count": 20,
     "metadata": {},
     "output_type": "execute_result"
    }
   ],
   "source": [
    "# 노준규 학생의 국어 성적을 출력해보세요.\n",
    "next(item for item in mid_term if item[\"name\"] == \"노준규\")['kor']"
   ]
  },
  {
   "cell_type": "code",
   "execution_count": 21,
   "metadata": {
    "id": "qt55PuFLptYh"
   },
   "outputs": [
    {
     "data": {
      "text/plain": [
       "265"
      ]
     },
     "execution_count": 21,
     "metadata": {},
     "output_type": "execute_result"
    }
   ],
   "source": [
    "# 고강민 학생의 성적 총점을 출력해보세요.\n",
    "sum(list(next(item for item in mid_term if item[\"name\"] == \"고강민\").values())[2:])"
   ]
  }
 ],
 "metadata": {
  "colab": {
   "collapsed_sections": [],
   "name": "Python_입문과정_과제1-1_변수와타입.ipynb",
   "provenance": []
  },
  "kernelspec": {
   "display_name": "Python 3",
   "language": "python",
   "name": "python3"
  },
  "language_info": {
   "codemirror_mode": {
    "name": "ipython",
    "version": 3
   },
   "file_extension": ".py",
   "mimetype": "text/x-python",
   "name": "python",
   "nbconvert_exporter": "python",
   "pygments_lexer": "ipython3",
   "version": "3.8.10"
  }
 },
 "nbformat": 4,
 "nbformat_minor": 1
}
