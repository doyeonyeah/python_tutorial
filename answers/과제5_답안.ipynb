{
 "cells": [
  {
   "cell_type": "markdown",
   "metadata": {
    "id": "tbWqM6DETtYk"
   },
   "source": [
    "1. Tank라는 객체(Object)를 생성하는 클래스를 만들어보세요. 해당 클래스는 아래와 같은 기능이 있어야 합니다.\n",
    "\n",
    "  1.   처음 클래스가 생성될 때, \"탱크가 생성되었습니다.\" 라는 메시지가 출력됩니다.\n",
    "  2.   탱크는 총 5발의 포탄을 가지고 생성됩니다.\n",
    "  3.   탱크는 (0,0) 좌표에서 생성됩니다.\n",
    "  2.   shoot이란 메소드를 실행하면 포탄 1발을 소모하며, \"탱크가 포를 쏘았습니다. (남은 포탄 : x)\" 라는 메시지가 출력됩니다. x는 남은 포탄의 수 입니다.\n",
    "      1. 남은 포탄이 없는 경우, shoot 메소드를 실행하면 \"포탄이 부족합니다.\" 라는 메시지를 출력합니다.\n",
    "  1.   reload라는 메소드를 실행하면, 포탄이 5발이 되며, \"포탄을 장전했습니다. (남은 포탄 : 5)\" 라는 메시지가 출력됩니다.\n",
    "  3.   move_x 라는 메소드에 정수 값을 넣어 실행하면,  탱크의 좌표 x 값이 정수 값 만큼 증가하며, \"탱크가 이동하였습니다. (현재 좌표 : (x , y))\" 라는 메시지가 출력됩니다. \n",
    "  4.   move_y 라는 메소드에 정수 값을 넣어 실행하면,  탱크의 좌표 y 값이 정수 값 만큼 증가하며, \"탱크가 이동하였습니다. (현재 좌표 : (x, y))\" 라는 메시지가 출력됩니다.\n",
    "  1.   Tank 클래스로 생성한 객체에 my_tank.cannon 이란 속성값을 입력하면, 포탄의 수가 출력됩니다.\n"
   ]
  },
  {
   "cell_type": "code",
   "execution_count": 1,
   "metadata": {
    "id": "rGmAp2tPSzdC"
   },
   "outputs": [
    {
     "name": "stdout",
     "output_type": "stream",
     "text": [
      "탱크가 생성되었습니다.\n",
      "탱크가 포를 쏘았습니다. (남은 포탄 : 4)\n",
      "포탄을 장전했습니다. (남은 포탄 : 5)\n",
      "탱크가 이동하였습니다. (현재 좌표 : (20, 0))\n",
      "탱크가 이동하였습니다. (현재 좌표 : (20, 2))\n",
      "탱크가 포를 쏘았습니다. (남은 포탄 : 4)\n",
      "탱크가 포를 쏘았습니다. (남은 포탄 : 3)\n",
      "탱크가 포를 쏘았습니다. (남은 포탄 : 2)\n",
      "탱크가 포를 쏘았습니다. (남은 포탄 : 1)\n",
      "탱크가 포를 쏘았습니다. (남은 포탄 : 0)\n",
      "포탄이 부족합니다.\n",
      "남은 포탄 : 0\n"
     ]
    }
   ],
   "source": [
    "class Tank:\n",
    "    def __init__(self, rounds_left, xy):\n",
    "        self.rounds_left = rounds_left\n",
    "        self.xy = xy\n",
    "        print(\"탱크가 생성되었습니다.\" )\n",
    "    \n",
    "    def shoot(self):\n",
    "        if self.rounds_left > 0:\n",
    "            self.rounds_left -= 1\n",
    "            print(\"탱크가 포를 쏘았습니다. (남은 포탄 : {})\".format(self.rounds_left))\n",
    "        elif self.rounds_left ==0:\n",
    "            print(\"포탄이 부족합니다.\")\n",
    "    \n",
    "    def reload(self):\n",
    "        self.rounds_left=5\n",
    "        print(\"포탄을 장전했습니다. (남은 포탄 : {})\".format(self.rounds_left))\n",
    "    \n",
    "    def move_x(self, x):\n",
    "        self.xy = self.xy[0]+x, self.xy[1]\n",
    "        print(\"탱크가 이동하였습니다. (현재 좌표 : {})\".format(self.xy))\n",
    "    def move_y(self, y):\n",
    "        self.xy = self.xy[0],self.xy[1]+y\n",
    "        print(\"탱크가 이동하였습니다. (현재 좌표 : {})\".format(self.xy))\n",
    "    def cannon(self):\n",
    "        print(\"남은 포탄 : {}\".format(self.rounds_left))\n",
    "        \n",
    "\n",
    "tank = Tank(5, (0,0))\n",
    "tank.shoot()\n",
    "tank.reload()\n",
    "tank.move_x(20)\n",
    "tank.move_y(2)\n",
    "for i in range(5):\n",
    "    tank.shoot()\n",
    "\n",
    "tank.shoot()\n",
    "tank.cannon()"
   ]
  },
  {
   "cell_type": "code",
   "execution_count": null,
   "metadata": {
    "id": "ZLQdkVLqcp47"
   },
   "outputs": [],
   "source": []
  },
  {
   "cell_type": "code",
   "execution_count": null,
   "metadata": {
    "id": "aMpQsvaggHMY"
   },
   "outputs": [],
   "source": []
  },
  {
   "cell_type": "code",
   "execution_count": null,
   "metadata": {
    "colab": {
     "base_uri": "https://localhost:8080/"
    },
    "executionInfo": {
     "elapsed": 556,
     "status": "ok",
     "timestamp": 1622484968131,
     "user": {
      "displayName": "Paulo Song",
      "photoUrl": "https://lh3.googleusercontent.com/a-/AOh14Gi8Y2-OILsORnOMnKUgQG-JpsNNP2ahBZx23RHw=s64",
      "userId": "12824946174607000555"
     },
     "user_tz": -540
    },
    "id": "1t56ld3xgZCB",
    "outputId": "ba333f1d-7147-45a3-c267-cdba6e417712"
   },
   "outputs": [],
   "source": []
  }
 ],
 "metadata": {
  "colab": {
   "authorship_tag": "ABX9TyN384/PMlDCUoum74Zfm/js",
   "collapsed_sections": [],
   "name": "Python_입문과정_과제1-4_클래스.ipynb",
   "provenance": []
  },
  "kernelspec": {
   "display_name": "Python 3",
   "language": "python",
   "name": "python3"
  },
  "language_info": {
   "codemirror_mode": {
    "name": "ipython",
    "version": 3
   },
   "file_extension": ".py",
   "mimetype": "text/x-python",
   "name": "python",
   "nbconvert_exporter": "python",
   "pygments_lexer": "ipython3",
   "version": "3.8.10"
  }
 },
 "nbformat": 4,
 "nbformat_minor": 1
}
