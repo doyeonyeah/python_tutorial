{
 "cells": [
  {
   "cell_type": "markdown",
   "metadata": {
    "id": "n8jfiOkCXvRd"
   },
   "source": [
    "# 1. 아래 list를 numpy array로 바꿔보세요."
   ]
  },
  {
   "cell_type": "code",
   "execution_count": 1,
   "metadata": {
    "id": "c0Yd2haoXvRg"
   },
   "outputs": [],
   "source": [
    "list_ = [4,5]"
   ]
  },
  {
   "cell_type": "code",
   "execution_count": 2,
   "metadata": {
    "id": "V4V_kZeSXvRi"
   },
   "outputs": [
    {
     "data": {
      "text/plain": [
       "array([4, 5])"
      ]
     },
     "execution_count": 2,
     "metadata": {},
     "output_type": "execute_result"
    }
   ],
   "source": [
    "import numpy as np\n",
    "#답안을 입력해주세요.\n",
    "np.array(list_)"
   ]
  },
  {
   "cell_type": "markdown",
   "metadata": {
    "id": "Qv-e4rn8XvRj"
   },
   "source": [
    "# 2. 1 ~ 9 사이의 정수를 하나씩 활용해서, 3 by 3 행렬을 출력하는 코드를 완성해보세요."
   ]
  },
  {
   "cell_type": "code",
   "execution_count": 3,
   "metadata": {
    "id": "MKaSsmELXvRj"
   },
   "outputs": [
    {
     "data": {
      "text/plain": [
       "array([[1, 4, 7],\n",
       "       [9, 2, 5],\n",
       "       [3, 6, 8]])"
      ]
     },
     "execution_count": 3,
     "metadata": {},
     "output_type": "execute_result"
    }
   ],
   "source": [
    "#2번 문제의 답변을 입력해주세요.\n",
    "arr = np.arange(1,10)\n",
    "np.random.shuffle(arr)\n",
    "arr.reshape(3,3)"
   ]
  },
  {
   "cell_type": "markdown",
   "metadata": {
    "id": "324eHzVGYNTS"
   },
   "source": [
    "# 3. 2에서 출력한 행렬의 차원을 알아내는 코드를 작성해보세요."
   ]
  },
  {
   "cell_type": "code",
   "execution_count": 4,
   "metadata": {
    "id": "Pg1ii7cUXvRk"
   },
   "outputs": [
    {
     "data": {
      "text/plain": [
       "(3, 3)"
      ]
     },
     "execution_count": 4,
     "metadata": {},
     "output_type": "execute_result"
    }
   ],
   "source": [
    "#3번 문제의 답변을 입력해주세요.\n",
    "arr.reshape(3,3).shape"
   ]
  },
  {
   "cell_type": "markdown",
   "metadata": {
    "id": "AYJyOzsfXvRl"
   },
   "source": [
    "# 4. 아래 정의된 arr1 로 numpy array를 만들고, arr1을 shape가 3 by 4 matrix로 만들어보세요."
   ]
  },
  {
   "cell_type": "code",
   "execution_count": 5,
   "metadata": {
    "id": "QQ7EJaSaXvRl"
   },
   "outputs": [
    {
     "data": {
      "text/plain": [
       "array([[ 1,  2,  3,  4],\n",
       "       [ 5,  6,  7,  8],\n",
       "       [ 9, 10, 11, 12]])"
      ]
     },
     "execution_count": 5,
     "metadata": {},
     "output_type": "execute_result"
    }
   ],
   "source": [
    "arr1 = np.array([1,2,3,4,5,6,7,8,9,10,11,12])\n",
    "arr1 = arr1.reshape(3,4)\n",
    "arr1\n",
    "#4번 문제의 답변을 입력해주세요."
   ]
  },
  {
   "cell_type": "markdown",
   "metadata": {
    "id": "JW2-IayGYiUq"
   },
   "source": [
    "# 4-1. 열기준으로 최대값의 인덱스를 구하는 코드를 완성해보세요."
   ]
  },
  {
   "cell_type": "code",
   "execution_count": 6,
   "metadata": {
    "id": "G82cXiQuYkpI"
   },
   "outputs": [
    {
     "data": {
      "text/plain": [
       "array([ 4,  8, 12])"
      ]
     },
     "execution_count": 6,
     "metadata": {},
     "output_type": "execute_result"
    }
   ],
   "source": [
    "np.max(arr1, 1)"
   ]
  },
  {
   "cell_type": "markdown",
   "metadata": {
    "id": "8L_RBH81XvRl"
   },
   "source": [
    "# 5. m, n 요소끼리의 곱셈, 나눗셈을 각각 구하는 코드를 짜보세요."
   ]
  },
  {
   "cell_type": "code",
   "execution_count": 7,
   "metadata": {
    "id": "NmUZUC-kXvRm"
   },
   "outputs": [
    {
     "name": "stdout",
     "output_type": "stream",
     "text": [
      "[ 4 15 30]\n",
      "[0.25       0.6        0.83333333]\n"
     ]
    }
   ],
   "source": [
    "m = np.array([1,3,5])\n",
    "\n",
    "n = np.array([4,5,6])\n",
    "\n",
    "#5번 문제의 답변을 입력해주세요.\n",
    "print(m*n)\n",
    "print(m/n)"
   ]
  },
  {
   "cell_type": "markdown",
   "metadata": {
    "id": "b0TxDLZFXvRm"
   },
   "source": [
    "# 6. 4번 반복을 통해 출력되는 결과가 아래와 같도록 코드를 완성해보세요.\n",
    "\n",
    "['a' 'a' 'a' 'a' 'b' 'b' 'b' 'b' 'c' 'c' 'c' 'c']"
   ]
  },
  {
   "cell_type": "code",
   "execution_count": 8,
   "metadata": {
    "id": "4xG5jTwBXvRn"
   },
   "outputs": [
    {
     "data": {
      "text/plain": [
       "array(['a', 'a', 'a', 'a', 'b', 'b', 'b', 'b', 'c', 'c', 'c', 'c'],\n",
       "      dtype='<U1')"
      ]
     },
     "execution_count": 8,
     "metadata": {},
     "output_type": "execute_result"
    }
   ],
   "source": [
    "#6번 문제의 답변을 입력해주세요.\n",
    "\n",
    "arr = np.array(['a','b','c'])#.reshape(3,1)\n",
    "np.repeat(arr, 4)"
   ]
  },
  {
   "cell_type": "markdown",
   "metadata": {
    "id": "b8x0g3FyXvRo"
   },
   "source": [
    "# 7. 0 ~ 12까지의 제곱수가 12 by 1로 출력되도록 코드를 짜보세요."
   ]
  },
  {
   "cell_type": "code",
   "execution_count": 9,
   "metadata": {
    "id": "XXB6elSzXvRo"
   },
   "outputs": [
    {
     "data": {
      "text/plain": [
       "array([  1,   4,   9,  16,  25,  36,  49,  64,  81, 100, 121, 144])"
      ]
     },
     "execution_count": 9,
     "metadata": {},
     "output_type": "execute_result"
    }
   ],
   "source": [
    "#7번 문제의 답변을 입력해주세요.\n",
    "arr = np.arange(1,13)\n",
    "arr_sqrd = arr*arr\n",
    "arr_sqrd"
   ]
  },
  {
   "cell_type": "markdown",
   "metadata": {
    "id": "PEX_cSZwY2zU"
   },
   "source": [
    "# 8. 7의 결과에서 왼쪽에서 3번째 숫자부터, 오른쪽 방향으로 두 개씩 데이터가 출력되도록 코드를 짜보세요."
   ]
  },
  {
   "cell_type": "code",
   "execution_count": 10,
   "metadata": {
    "id": "X5FinCbpXvRp"
   },
   "outputs": [
    {
     "name": "stdout",
     "output_type": "stream",
     "text": [
      "[16 25]\n",
      "[36 49]\n",
      "[64 81]\n",
      "[100 121]\n",
      "[144]\n"
     ]
    }
   ],
   "source": [
    "#8번 문제의 답변을 입력해주세요.\n",
    "for i in range(3,len(arr_sqrd),2):\n",
    "    print(arr_sqrd[i:i+2])"
   ]
  },
  {
   "cell_type": "markdown",
   "metadata": {
    "id": "pmOQMuOIXvRp"
   },
   "source": [
    "# 9. 1로만 이뤄진 3 by 2 행렬 j을 두번째 행의 2열까지 3으로 만드는 코드를 완성해보세요."
   ]
  },
  {
   "cell_type": "code",
   "execution_count": 11,
   "metadata": {
    "id": "7uqo6fWZXvRq"
   },
   "outputs": [
    {
     "data": {
      "text/plain": [
       "array([[3, 3, 1],\n",
       "       [3, 3, 1]])"
      ]
     },
     "execution_count": 11,
     "metadata": {},
     "output_type": "execute_result"
    }
   ],
   "source": [
    "j = np.array([[1,1,1],\n",
    "            [1,1,1]])\n",
    "#9번 문제의 답변을 입력해주세요.\n",
    "j[:2,:2] = j[:2,:2]*3\n",
    "j"
   ]
  },
  {
   "cell_type": "markdown",
   "metadata": {
    "id": "u1HRs8OSXvRq"
   },
   "source": [
    "# 0 ~ 35까지의 정수를 6 by 6으로 출력하는 코드를 바탕으로, 다음 문제를 풀어보세요.\n",
    "\n",
    "10-1. 4행의 2 ~ 4열의 요소를 출력해보세요.\n",
    "\n",
    "10-2. 행은 2행까지, 열은 5열까지 출력하는 코드를 짜보세요.\n",
    "\n",
    "10-3. 5번째 행에서, 왼쪽에서 두 번째 숫자부터 두 개씩 건너띄도록 데이터를 출력해보세요.\n",
    "\n"
   ]
  },
  {
   "cell_type": "code",
   "execution_count": 12,
   "metadata": {
    "id": "S-lic4hcXvRr"
   },
   "outputs": [
    {
     "name": "stdout",
     "output_type": "stream",
     "text": [
      "[[ 0  1  2  3  4  5]\n",
      " [ 6  7  8  9 10 11]\n",
      " [12 13 14 15 16 17]\n",
      " [18 19 20 21 22 23]\n",
      " [24 25 26 27 28 29]\n",
      " [30 31 32 33 34 35]]\n"
     ]
    },
    {
     "data": {
      "text/plain": [
       "array([20, 21, 22])"
      ]
     },
     "execution_count": 12,
     "metadata": {},
     "output_type": "execute_result"
    }
   ],
   "source": [
    "#10-1.\n",
    "arr = np.arange(36).reshape(6,6)\n",
    "print(arr)\n",
    "arr[3,2:5]"
   ]
  },
  {
   "cell_type": "code",
   "execution_count": 13,
   "metadata": {
    "id": "CAfhRR0IXvRr"
   },
   "outputs": [
    {
     "data": {
      "text/plain": [
       "array([[ 0,  1,  2,  3,  4],\n",
       "       [ 6,  7,  8,  9, 10]])"
      ]
     },
     "execution_count": 13,
     "metadata": {},
     "output_type": "execute_result"
    }
   ],
   "source": [
    "# 10-2.\n",
    "arr[:2,:5]"
   ]
  },
  {
   "cell_type": "code",
   "execution_count": 14,
   "metadata": {
    "id": "SUaD6EudXvRr"
   },
   "outputs": [
    {
     "data": {
      "text/plain": [
       "array([25, 27, 29])"
      ]
     },
     "execution_count": 14,
     "metadata": {},
     "output_type": "execute_result"
    }
   ],
   "source": [
    "# 10-3.\n",
    "arr[4,1::2]"
   ]
  },
  {
   "cell_type": "code",
   "execution_count": null,
   "metadata": {},
   "outputs": [],
   "source": []
  }
 ],
 "metadata": {
  "colab": {
   "collapsed_sections": [],
   "name": "Python_입문과정_과제2-1_Numpy.ipynb",
   "provenance": []
  },
  "kernelspec": {
   "display_name": "Python 3",
   "language": "python",
   "name": "python3"
  },
  "language_info": {
   "codemirror_mode": {
    "name": "ipython",
    "version": 3
   },
   "file_extension": ".py",
   "mimetype": "text/x-python",
   "name": "python",
   "nbconvert_exporter": "python",
   "pygments_lexer": "ipython3",
   "version": "3.8.10"
  }
 },
 "nbformat": 4,
 "nbformat_minor": 1
}
