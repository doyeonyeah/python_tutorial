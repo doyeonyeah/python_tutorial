{
 "cells": [
  {
   "cell_type": "markdown",
   "metadata": {
    "id": "o1cxxw4JJpAE"
   },
   "source": [
    "# 1. 주어진 자연수가 홀수인지 짝수인지 판별해 주는 함수 is_odd 를 작성해보세요."
   ]
  },
  {
   "cell_type": "code",
   "execution_count": 1,
   "metadata": {
    "id": "4HDAlWynJv-w"
   },
   "outputs": [
    {
     "name": "stdout",
     "output_type": "stream",
     "text": [
      "True\n"
     ]
    }
   ],
   "source": [
    "def is_odd(num):\n",
    "    if num % 2 ==1:\n",
    "        print(\"True\")\n",
    "    else:\n",
    "        print(\"False\")\n",
    "        \n",
    "is_odd(5)"
   ]
  },
  {
   "cell_type": "markdown",
   "metadata": {
    "id": "etzwzenGL0gD"
   },
   "source": [
    "#2 입력으로 들어오는 모든 수의 평균 값을 계산해 주는 함수 numbers_avg 를 작성해보세요.\n",
    "단, 입력으로 들어오는 수의 개수는 정해져 있지 않습니다.\n",
    "\n"
   ]
  },
  {
   "cell_type": "code",
   "execution_count": 2,
   "metadata": {
    "id": "ofnf_smOL9ui"
   },
   "outputs": [
    {
     "name": "stdout",
     "output_type": "stream",
     "text": [
      "13.428571428571429\n"
     ]
    }
   ],
   "source": [
    "def numbers_avg(*nums):\n",
    "    print(sum(nums)/len(nums))\n",
    "    \n",
    "numbers_avg(3,65,3,2,6,7,8)"
   ]
  },
  {
   "cell_type": "markdown",
   "metadata": {
    "id": "tbWqM6DETtYk"
   },
   "source": [
    "# 3. 반지름을 넣으면, 원주를 구하는 함수를 일반 함수와 Lambda 함수를 활용하여 각각 작성해보세요."
   ]
  },
  {
   "cell_type": "code",
   "execution_count": 3,
   "metadata": {
    "id": "rGmAp2tPSzdC"
   },
   "outputs": [
    {
     "name": "stdout",
     "output_type": "stream",
     "text": [
      "12.56\n",
      "12.56\n"
     ]
    }
   ],
   "source": [
    "PI = 3.14\n",
    "\n",
    "def get_circum(rad):\n",
    "    return 2*PI*rad\n",
    "\n",
    "def lambda_circum(rad):\n",
    "    return (lambda x: 2*PI*x)(rad)\n",
    "\n",
    "print (get_circum(2))\n",
    "\n",
    "print (lambda_circum(2))"
   ]
  },
  {
   "cell_type": "markdown",
   "metadata": {
    "id": "LOkOjxm1wLsb"
   },
   "source": [
    "# 4. 다음의 문자를 모스부호로 암호화 해보세요.\n",
    "\n",
    "※ 모든 글자 사이에는 공백 한 칸, 단어 사이에는 공백 두 칸을 띄웁니다.\n",
    "\n",
    "LG WAY IS A MANAGEMENT PHILOSOPHY"
   ]
  },
  {
   "cell_type": "code",
   "execution_count": 4,
   "metadata": {
    "id": "LNs_RI4ewK2P"
   },
   "outputs": [],
   "source": [
    "# 모스부호\n",
    "dic = {\n",
    "    '.-': 'A', '-...': 'B', '-.-.': 'C', '-..': 'D', '.':'E', '..-.': 'F',\n",
    "    '--.': 'G', '....': 'H', '..': 'I', '.---': 'J', '-.-': 'K', '.-..': 'L',\n",
    "    '--': 'M', '-.': 'N', '---': 'O', '.--.': 'P', '--.-': 'Q', '.-.': 'R',\n",
    "    '...': 'S', '-': 'T', '..-': 'U', '...-': 'V', '.--': 'W', '-..-': 'X',\n",
    "    '-.--': 'Y', '--..': 'Z'\n",
    "}\n",
    " "
   ]
  },
  {
   "cell_type": "code",
   "execution_count": 5,
   "metadata": {
    "id": "Wytkllwww-gR"
   },
   "outputs": [
    {
     "name": "stdout",
     "output_type": "stream",
     "text": [
      ".-..--., .--.--.--, ....., .-, --.--..---..--.-.-, .--........-..---...---.--.....-.--\n"
     ]
    }
   ],
   "source": [
    "SENTENCE = 'LG WAY IS A MANAGEMENT PHILOSOPHY'\n",
    "\n",
    "# 아래 함수를 완성해주세요.\n",
    "\n",
    "def encode(sent):\n",
    "    encoded=\"\"\n",
    "    for letter in sent:\n",
    "        for k,v in dic.items():\n",
    "            if v==letter:\n",
    "                encoded +=k\n",
    "        if letter==' ':\n",
    "                encoded += ', '\n",
    "\n",
    "    return encoded\n",
    "\n",
    "print(encode(SENTENCE))\n"
   ]
  },
  {
   "cell_type": "markdown",
   "metadata": {
    "id": "F7Wu1Lj4xV7s"
   },
   "source": [
    "# 5. 아래는 음식 1회분 별 칼로리가 정리되어 있는 데이터입니다. 오늘의 식단이 나열된 리스트로 섭취한 총 칼로리를 계산하는 함수를 작성해보세요."
   ]
  },
  {
   "cell_type": "code",
   "execution_count": 6,
   "metadata": {
    "id": "HYY1kgPexU-Y"
   },
   "outputs": [],
   "source": [
    "calorie_dict = [\n",
    "                { \"name\" : \"쌀밥\", \"kcal\" : 310},\n",
    "                { \"name\" : \"달걀\", \"kcal\" : 68},\n",
    "                { \"name\" : \"바나나\", \"kcal\" : 93},\n",
    "                { \"name\" : \"방울토마토\", \"kcal\": 2},\n",
    "                { \"name\" : \"아메리카노\", \"kcal\" : 4},\n",
    "                { \"name\" : \"배추김치\", \"kcal\" : 25}\n",
    "]"
   ]
  },
  {
   "cell_type": "code",
   "execution_count": 7,
   "metadata": {},
   "outputs": [
    {
     "data": {
      "text/plain": [
       "310"
      ]
     },
     "execution_count": 7,
     "metadata": {},
     "output_type": "execute_result"
    }
   ],
   "source": [
    "calorie_dict[0]['kcal']"
   ]
  },
  {
   "cell_type": "code",
   "execution_count": 8,
   "metadata": {
    "id": "lPAYBopyyR4N"
   },
   "outputs": [
    {
     "data": {
      "text/plain": [
       "407"
      ]
     },
     "execution_count": 8,
     "metadata": {},
     "output_type": "execute_result"
    }
   ],
   "source": [
    "lunch = [\"쌀밥\", \"배추김치\", \"달걀\", \"아메리카노\"]\n",
    "\n",
    "def calculate_calories(lunch):\n",
    "    sum=0\n",
    "    for l in lunch:\n",
    "        for i in calorie_dict:\n",
    "            if l==i['name']:\n",
    "                sum += i['kcal']\n",
    "    return sum\n",
    "    \n",
    "\n",
    "calculate_calories(lunch)"
   ]
  },
  {
   "cell_type": "markdown",
   "metadata": {
    "id": "92sLI_bgKMLv"
   },
   "source": [
    "# 6. 다음과 같은 기능을 가진 함수를 작성해주세요.\n",
    "\n",
    "1. 본 함수는 자신을 소개해주는 함수입니다.\n",
    "2. 변수로 이름, 나이, 성별을 받습니다.\n",
    "3. 결과 값으로 아래와 같은 정보가 출력됩니다.\n",
    "\n",
    "    \"나의 이름은 제이호입니다.\"\n",
    "    \n",
    "    \"나이는 19세입니다.\"\n",
    "\n",
    "    \"남자입니다.\""
   ]
  },
  {
   "cell_type": "code",
   "execution_count": 9,
   "metadata": {
    "id": "0nnY5HQpKLjF"
   },
   "outputs": [
    {
     "name": "stdout",
     "output_type": "stream",
     "text": [
      "j\n",
      "29\n",
      "m\n",
      "나의 이름은 j입니다.\n",
      "나이는 29세입니다.\n",
      "m입니다.\n"
     ]
    }
   ],
   "source": [
    "def introduce():\n",
    "    name=input()\n",
    "    age=input()\n",
    "    sex=input()\n",
    "    print(\"나의 이름은 {}입니다.\".format(name))\n",
    "    print(\"나이는 {}세입니다.\".format(age))\n",
    "    print(\"{}입니다.\".format(sex))\n",
    "introduce()"
   ]
  },
  {
   "cell_type": "markdown",
   "metadata": {
    "id": "OijUKQThTCiB"
   },
   "source": [
    "# 7. input()을 활용하여, 자기소개를 하는 프로그램을 작성해주세요.\n",
    "  1. input으로 이름, 나이, 성별을 받습니다.\n",
    "  2. 결과 값으로 아래와 같은 정보를 출력합니다.\n",
    "\n",
    "    \"나의 이름은 제이호입니다.\"\n",
    "    \n",
    "    \"나이는 19세입니다.\"\n",
    "\n",
    "    \"남자입니다.\"\n",
    "\n",
    "  3. 나이를 정수가 아닌 값으로 입력하면, 오류처리를 합니다.\n",
    "  4. 성별은 m / f 라는 문자열로 입력하며, 그 외 값을 입력할 경우 오류처리를 합니다."
   ]
  },
  {
   "cell_type": "code",
   "execution_count": 10,
   "metadata": {
    "id": "pnhlISZYTs1E"
   },
   "outputs": [
    {
     "name": "stdout",
     "output_type": "stream",
     "text": [
      "ww\n",
      "8\n",
      "f\n",
      "나의 이름은 ww입니다.\n",
      "나이는 8세입니다.\n",
      "f입니다.\n"
     ]
    }
   ],
   "source": [
    "def introduce():\n",
    "    name=input()\n",
    "    age=input()\n",
    "    sex=input()\n",
    "    if (isinstance(age.isnumeric(), int)) & (sex in ['m', 'f']):\n",
    "            print(\"나의 이름은 {}입니다.\".format(name))\n",
    "            print(\"나이는 {}세입니다.\".format(age))\n",
    "            print(\"{}입니다.\".format(sex))\n",
    "    else:\n",
    "        print('error')\n",
    "\n",
    "introduce()\n"
   ]
  },
  {
   "cell_type": "markdown",
   "metadata": {
    "id": "cnSfgE_EvAz7"
   },
   "source": [
    "# 8. 아래는 영상 강의에서 다룬 숫자 맞추기 게임 프로그램입니다. 다음과 같은 기능을 추가해주세요.\n",
    "\n",
    "1. 'gg'라고 입력하면, \"수고하셨습니다. 정답은 00였습니다.\" 라고 정답을 알려주며 프로그램이 종료됩니다.\n",
    "1. 게임이 종료되는 시점, 총 몇회에 걸쳐 정답을 맞췄는 지를 알려줍니다."
   ]
  },
  {
   "cell_type": "code",
   "execution_count": 11,
   "metadata": {
    "id": "_qATQCbUt-Wg"
   },
   "outputs": [
    {
     "name": "stdout",
     "output_type": "stream",
     "text": [
      "종료하려면 quit를 입력하세요\n",
      "1 ~ 100 사이의 숫자를 선택하시오: 50\n",
      "정답은 50보다 큰수 입니다.\n",
      "종료하려면 quit를 입력하세요\n",
      "1 ~ 100 사이의 숫자를 선택하시오: 75\n",
      "정답은 75보다 큰수 입니다.\n",
      "종료하려면 quit를 입력하세요\n",
      "1 ~ 100 사이의 숫자를 선택하시오: 87\n",
      "정답은 87보다 큰수 입니다.\n",
      "종료하려면 quit를 입력하세요\n",
      "1 ~ 100 사이의 숫자를 선택하시오: 94\n",
      "정답은 94보다 큰수 입니다.\n",
      "종료하려면 quit를 입력하세요\n",
      "1 ~ 100 사이의 숫자를 선택하시오: 97\n",
      "정답은 97보다 큰수 입니다.\n",
      "종료하려면 quit를 입력하세요\n",
      "1 ~ 100 사이의 숫자를 선택하시오: 99\n",
      "정답은 99보다 큰수 입니다.\n",
      "종료하려면 quit를 입력하세요\n",
      "1 ~ 100 사이의 숫자를 선택하시오: 100\n",
      "축하합니다.\n",
      "프로그램을 종료합니다. 7번 시도했습니다.\n"
     ]
    }
   ],
   "source": [
    "import random\n",
    "\n",
    "number = random.randint(1,100)\n",
    "ans = None\n",
    "try_count = 0\n",
    "\n",
    "\n",
    "while True:\n",
    "    print('종료하려면 quit를 입력하세요')\n",
    "    \n",
    "    ans = input('1 ~ 100 사이의 숫자를 선택하시오: ')\n",
    "    \n",
    "    # 프로그램 종료 체크\n",
    "    if ans == 'q' or ans == 'quit' or ans == 'exit':\n",
    "        print('프로그램을 종료합니다.')\n",
    "        break\n",
    "    \n",
    "    # gg 입력 시, 정답 확인\n",
    "    if ans == 'gg':\n",
    "        print(\"수고하셨습니다. 정답은 {}였습니다.\".format(number))\n",
    "        break\n",
    "        \n",
    "    # 숫자를 입력했는지 체크\n",
    "    if not ans.isdecimal():\n",
    "        print('{}은 잘못된 입력입니다.!!!'.format(ans))\n",
    "        continue\n",
    "    \n",
    "    # 입력값을 숫자로 변환\n",
    "    num = int(ans)\n",
    "    try_count+=1\n",
    "    \n",
    "    # 1 ~ 100 사이의 숫자인지 체크\n",
    "    if num < 1 or num >100:\n",
    "        print('{}는 1 ~ 100 사이의 숫자가 아닙니다'.format(num))\n",
    "        continue\n",
    "    \n",
    "    # 정답 체크\n",
    "    if num == number:\n",
    "        print('축하합니다.')\n",
    "\n",
    "        # 몇회에 걸쳐 정답 맞췄는지 확인\n",
    "\n",
    "        print('프로그램을 종료합니다. {}번 시도했습니다.'.format(try_count))\n",
    "        break\n",
    "    \n",
    "    if num > number:\n",
    "        print('정답은 {}보다 작은수 입니다.'.format(num))\n",
    "        continue\n",
    "        \n",
    "    if num < number:\n",
    "        print('정답은 {}보다 큰수 입니다.'.format(num))\n",
    "        continue"
   ]
  },
  {
   "cell_type": "markdown",
   "metadata": {
    "id": "3gP7lUOtfzGy"
   },
   "source": [
    "# 9. 단수를 입력하면 구구단을 생성하는 프로그램을 작성해주세요.\n",
    "\n",
    "  1. 프로그램을 실행하면, 단수를 물어봅니다.\n",
    "  2. q 또는 quit를 입력하면 프로그램을 종료합니다.\n",
    "  3. 해당 단수에 구구단을 출력합니다.\n",
    "  \n",
    "  [예시]\n",
    "\n",
    "  2 X 1 = 2  \n",
    "  2 X 2 = 4 ...\n",
    "\n",
    "  4. 출력 후 프로그램을 종료합니다.\n",
    "\n"
   ]
  },
  {
   "cell_type": "code",
   "execution_count": 12,
   "metadata": {
    "id": "XNasNWOcgGIZ"
   },
   "outputs": [
    {
     "name": "stdout",
     "output_type": "stream",
     "text": [
      "종료하려면 quit를 입력하세요\n",
      "단수?3\n",
      "3 X 1 = 3\n",
      "3 X 2 = 6\n",
      "3 X 3 = 9\n",
      "3 X 4 = 12\n",
      "3 X 5 = 15\n",
      "3 X 6 = 18\n",
      "3 X 7 = 21\n",
      "3 X 8 = 24\n",
      "3 X 9 = 27\n",
      "종료하려면 quit를 입력하세요\n",
      "단수?q\n",
      "프로그램을 종료합니다.\n"
     ]
    }
   ],
   "source": [
    "def gugudan():\n",
    "    while True:\n",
    "        print('종료하려면 quit를 입력하세요')\n",
    "\n",
    "        num = input('단수?')\n",
    "\n",
    "        # 프로그램 종료 체크\n",
    "        if num == 'q' or num == 'quit' or num == 'exit':\n",
    "            print('프로그램을 종료합니다.')\n",
    "            break\n",
    "    \n",
    "        for i in range(1,10):\n",
    "            print(\"{} X {} = {}\".format(num, i, int(num)*i))\n",
    "gugudan()"
   ]
  },
  {
   "cell_type": "markdown",
   "metadata": {
    "id": "zkgTy7SijYv1"
   },
   "source": [
    "# 10. 369 게임은 숫자에 3, 6, 9가 들어가면 박수를 치고, 나머지 숫자는 그대로 이야기하는 게임입니다. 369 게임을 시뮬레이션하는 game_369 함수를 작성해보세요.\n",
    "\n",
    "[조건]\n",
    "1. 함수는 숫자의 리스트를 입력받는다. \n",
    "2. 리스트에는 0 ~ 9 까지의 숫자가 들어있다. \n",
    "3. 입력된 숫자에 3/6/9가 포함되면 \"짝\" 문자열을 그렇지 않을 경우 숫자를 그대로 리스트에 저장한다. \n",
    "4. 함수는 변환된 리스트를 반환한다."
   ]
  },
  {
   "cell_type": "code",
   "execution_count": 13,
   "metadata": {
    "id": "J5hrUMaVhKq7"
   },
   "outputs": [
    {
     "data": {
      "text/plain": [
       "[0, '짝', '짝', 5]"
      ]
     },
     "execution_count": 13,
     "metadata": {},
     "output_type": "execute_result"
    }
   ],
   "source": [
    "num_list = [0,3,9,5]\n",
    "def threesixnine(num_list):\n",
    "    new_list=[]\n",
    "    for i in num_list:\n",
    "        if any(tsn in str(i) for tsn in ['3','6','9']):\n",
    "            new_list.append('짝')\n",
    "        else:\n",
    "            new_list.append(i)\n",
    "    return new_list\n",
    "\n",
    "threesixnine(num_list)"
   ]
  },
  {
   "cell_type": "markdown",
   "metadata": {
    "id": "OcRgLEhLkCtn"
   },
   "source": [
    "# 추가 과제) 위 369 게임이 10 넘는 숫자에도 정상동작 하도록 수정해주세요."
   ]
  },
  {
   "cell_type": "code",
   "execution_count": 14,
   "metadata": {
    "colab": {
     "base_uri": "https://localhost:8080/"
    },
    "executionInfo": {
     "elapsed": 481,
     "status": "ok",
     "timestamp": 1622568002150,
     "user": {
      "displayName": "Paulo Song",
      "photoUrl": "https://lh3.googleusercontent.com/a-/AOh14Gi8Y2-OILsORnOMnKUgQG-JpsNNP2ahBZx23RHw=s64",
      "userId": "12824946174607000555"
     },
     "user_tz": -540
    },
    "id": "ssgaf6fQi6Oj",
    "outputId": "6100a821-c10e-4459-df96-53fcb301fee2"
   },
   "outputs": [
    {
     "data": {
      "text/plain": [
       "[0, '짝', '짝', 5, '짝', 44]"
      ]
     },
     "execution_count": 14,
     "metadata": {},
     "output_type": "execute_result"
    }
   ],
   "source": [
    "num_list = [0,3,9,5, 35, 44]\n",
    "def threesixnine(num_list):\n",
    "    new_list=[]\n",
    "    for i in num_list:\n",
    "        if any(tsn in str(i) for tsn in ['3','6','9']):\n",
    "            new_list.append('짝')\n",
    "        else:\n",
    "            new_list.append(i)\n",
    "    return new_list\n",
    "\n",
    "threesixnine(num_list)"
   ]
  },
  {
   "cell_type": "code",
   "execution_count": null,
   "metadata": {},
   "outputs": [],
   "source": []
  }
 ],
 "metadata": {
  "colab": {
   "authorship_tag": "ABX9TyOmMHlnSMPyOzyvJUGXCA/2",
   "collapsed_sections": [],
   "name": "Python_입문과정_과제1-3_함수.ipynb",
   "provenance": []
  },
  "kernelspec": {
   "display_name": "Python 3",
   "language": "python",
   "name": "python3"
  },
  "language_info": {
   "codemirror_mode": {
    "name": "ipython",
    "version": 3
   },
   "file_extension": ".py",
   "mimetype": "text/x-python",
   "name": "python",
   "nbconvert_exporter": "python",
   "pygments_lexer": "ipython3",
   "version": "3.8.10"
  }
 },
 "nbformat": 4,
 "nbformat_minor": 1
}
