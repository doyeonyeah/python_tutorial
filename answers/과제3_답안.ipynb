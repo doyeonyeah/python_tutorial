{
 "cells": [
  {
   "cell_type": "markdown",
   "metadata": {
    "id": "gTYl8_yNQEJY"
   },
   "source": [
    "# 1. 숫자 1 부터 20 까지 순서대로 출력하는 코드를 완성해보세요. \n",
    "\n",
    "※ 단, while 문을 활용하세요. "
   ]
  },
  {
   "cell_type": "code",
   "execution_count": 2,
   "metadata": {
    "id": "L3JTVxLOQEJb",
    "scrolled": false
   },
   "outputs": [
    {
     "name": "stdout",
     "output_type": "stream",
     "text": [
      "0\n",
      "1\n",
      "2\n",
      "3\n",
      "4\n",
      "5\n",
      "6\n",
      "7\n",
      "8\n",
      "9\n",
      "10\n",
      "11\n",
      "12\n",
      "13\n",
      "14\n",
      "15\n",
      "16\n",
      "17\n",
      "18\n",
      "19\n",
      "20\n"
     ]
    }
   ],
   "source": [
    "i=0\n",
    "while i <= 20:\n",
    "    print(i)\n",
    "    i+=1"
   ]
  },
  {
   "cell_type": "markdown",
   "metadata": {
    "id": "SGdVlYziQEJc"
   },
   "source": [
    "# 2. 다음 dictionary의 'j', 'q', 'k'의 키값에 해당하는 밸류를 모두 더해 출력하는 코드를 완성해보세요."
   ]
  },
  {
   "cell_type": "code",
   "execution_count": 9,
   "metadata": {
    "id": "sGuqTA2LQEJc",
    "scrolled": true
   },
   "outputs": [
    {
     "name": "stdout",
     "output_type": "stream",
     "text": [
      "Have a good day \n"
     ]
    }
   ],
   "source": [
    "dic = {2:5742,'q':'a', 'cd':44, 'j':'Have', 1:'fine', 'k':'good day'}\n",
    "sentence=''\n",
    "for item in ['j', 'q', 'k']:\n",
    "    sentence = sentence + dic[item] + ' '\n",
    "print(sentence)"
   ]
  },
  {
   "cell_type": "markdown",
   "metadata": {
    "id": "p8m2_5QtQEJd"
   },
   "source": [
    "# 3. 입력받은 숫자가 3의 배수인지 판별하는 코드를 완성해보세요."
   ]
  },
  {
   "cell_type": "code",
   "execution_count": 10,
   "metadata": {
    "id": "hu7ErW46QEJe"
   },
   "outputs": [
    {
     "name": "stdout",
     "output_type": "stream",
     "text": [
      "TRUE\n"
     ]
    }
   ],
   "source": [
    "a = 123\n",
    "if a % 3 ==0:\n",
    "    print('TRUE')"
   ]
  },
  {
   "cell_type": "markdown",
   "metadata": {
    "id": "e-iTHrBcQEJe"
   },
   "source": [
    "# 4. 정수를 하나 입력받아, 1부터 입력받은 수까지 각각의 세제곱이 출력되는 코드를 for 문을 활용하여 완성해보세요.\n",
    "\n",
    "[예시 : 3을 넣었을 경우]\n",
    "\n",
    "3\n",
    "\n",
    "1 1\n",
    "\n",
    "2 8\n",
    "\n",
    "3 27"
   ]
  },
  {
   "cell_type": "code",
   "execution_count": 13,
   "metadata": {
    "id": "uIE-PRdJQEJg"
   },
   "outputs": [
    {
     "name": "stdout",
     "output_type": "stream",
     "text": [
      "1\n",
      "8\n",
      "27\n"
     ]
    }
   ],
   "source": [
    "a=3\n",
    "for i in range(a):\n",
    "    i+=1\n",
    "    print(i**3)"
   ]
  },
  {
   "cell_type": "markdown",
   "metadata": {
    "id": "g_mpXgBSQEJg"
   },
   "source": [
    "# 5. 다음 리스트의 원소 중 7의 배수에만 3을 더하고, 그 값들의 합을 출력하는 코드를 완성해보세요."
   ]
  },
  {
   "cell_type": "code",
   "execution_count": 16,
   "metadata": {
    "id": "m04qalt7QEJh"
   },
   "outputs": [
    {
     "name": "stdout",
     "output_type": "stream",
     "text": [
      "345\n"
     ]
    }
   ],
   "source": [
    "lst = [1,4,7,15,21,30,49,50,72,84]\n",
    "answer=0\n",
    "for item in lst:\n",
    "    if item % 7 ==0:\n",
    "        item += 3\n",
    "    answer += item\n",
    "print(answer)"
   ]
  },
  {
   "cell_type": "markdown",
   "metadata": {
    "id": "m3TR1mf9QEJh"
   },
   "source": [
    "# 6. 아래와 같은 텍스트가 출력되는 코드를 for문으로 작성해보세요.\n",
    "\n",
    "print(\"-------\")\n",
    "\n",
    "print(\"-------\")\n",
    "\n",
    "print(\"-------\")\n",
    "\n",
    "print(\"-------\")\n"
   ]
  },
  {
   "cell_type": "code",
   "execution_count": 18,
   "metadata": {
    "id": "T8Myzig0QEJi"
   },
   "outputs": [
    {
     "name": "stdout",
     "output_type": "stream",
     "text": [
      "print(\"-----\")\n",
      "print(\"-----\")\n",
      "print(\"-----\")\n",
      "print(\"-----\")\n"
     ]
    }
   ],
   "source": [
    "for i in range(4):\n",
    "    print('print(\"{}\")'.format(\"-\"*5))"
   ]
  },
  {
   "cell_type": "markdown",
   "metadata": {
    "id": "XLejFPFIfBkV"
   },
   "source": [
    "# 7. 아래 조건을 만족하도록 코드를 작성해보세요."
   ]
  },
  {
   "cell_type": "markdown",
   "metadata": {
    "executionInfo": {
     "elapsed": 2,
     "status": "ok",
     "timestamp": 1622382100604,
     "user": {
      "displayName": "Paulo Song",
      "photoUrl": "https://lh3.googleusercontent.com/a-/AOh14Gi8Y2-OILsORnOMnKUgQG-JpsNNP2ahBZx23RHw=s64",
      "userId": "12824946174607000555"
     },
     "user_tz": -540
    },
    "id": "DV4fc9JTgXdl"
   },
   "source": [
    "조건 1. 신장이 160 이상이면 현역 대상자입니다.\n",
    "\n",
    "조건 2. 신장이 159 이상, 160 미만인 경우, \n",
    "bmi가 16 이상 ~ 35 미만이면 현역 대상자이고, \n",
    "그 외에는 보충역 대상자입니다.\n",
    "\n",
    "조건 3. 신장이 159 미만이면, 보충역 대상자입니다."
   ]
  },
  {
   "cell_type": "code",
   "execution_count": 20,
   "metadata": {
    "id": "QFnk3awCQEJj"
   },
   "outputs": [
    {
     "name": "stdout",
     "output_type": "stream",
     "text": [
      "신장을 입력하세요 : 159.5\n",
      "bmi 지수를 입력하세요 : 18\n",
      "조건 2. 신장이 159 이상, 160 미만인 경우, bmi가 16 이상 ~ 35 미만이면 현역 대상자이고\n"
     ]
    }
   ],
   "source": [
    "height = float(input('신장을 입력하세요 : '))\n",
    "\n",
    "bmi = float(input('bmi 지수를 입력하세요 : '))\n",
    "\n",
    "if height > 160:\n",
    "    print(\"조건 1. 신장이 160 이상이면 현역 대상자입니다.\")\n",
    "elif (height > 159) & (height <= 160):\n",
    "    if (bmi >16)  & (bmi < 35):\n",
    "        print(\"조건 2. 신장이 159 이상, 160 미만인 경우, bmi가 16 이상 ~ 35 미만이면 현역 대상자이고\")\n",
    "    else:\n",
    "        print(\", 그 외에는 보충역 대상자입니다.\")\n",
    "    \n",
    "elif height < 159:\n",
    "    print(\"조건 3. 신장이 159 미만이면, 보충역 대상자입니다.\")"
   ]
  },
  {
   "cell_type": "markdown",
   "metadata": {
    "id": "hgWid_PvQEJk"
   },
   "source": [
    "# 8. 다음 규칙에 따라, 연도를 나타내는 정수를 입력으로 받아 윤년인지 아닌지 판별하는 코드를 완성해보세요.\n",
    "\n",
    "[참고]\n",
    "\n",
    "연도가 4로 나눠떨어지면, 윤년입니다.\n",
    "\n",
    "연도가 4, 100으로 나눠떨어지면, 평년입니다.\n",
    "\n",
    "연도가 4, 100, 400으로 나눠떨어지면, 윤년입니다."
   ]
  },
  {
   "cell_type": "code",
   "execution_count": 22,
   "metadata": {
    "id": "c0E1e_IqQEJk"
   },
   "outputs": [
    {
     "name": "stdout",
     "output_type": "stream",
     "text": [
      "100\n",
      "평\n"
     ]
    }
   ],
   "source": [
    "year = int(input())\n",
    "\n",
    "\n",
    "if year % 4 ==0:\n",
    "    if year % 400==0:\n",
    "        print('윤년')\n",
    "    elif year % 100==0:\n",
    "        print('평년')\n",
    "    else:\n",
    "        print('윤년')\n",
    "    \n"
   ]
  },
  {
   "cell_type": "markdown",
   "metadata": {
    "id": "I8WyKRhkQEJl"
   },
   "source": [
    "# 9. 모스부호를 활용하여, 다음 암호를 해독하는 코드를 완성해보세요.\n",
    "\n",
    "※ 모든 글자 사이에는 공백 한 칸, 단어 사이에는 공백 두 칸을 띄웁니다.\n",
    "\n",
    "[암호]\n",
    "\n",
    "..  .-.. --- ...- .  -.-- --- ..-  - .... .-. . .  - .... --- ..- ... .- -. -.."
   ]
  },
  {
   "cell_type": "code",
   "execution_count": 23,
   "metadata": {
    "id": "qe6Q5cIlQEJl"
   },
   "outputs": [],
   "source": [
    "# 모스부호\n",
    "dic = {\n",
    "    '.-': 'A', '-...': 'B', '-.-.': 'C', '-..': 'D', '.':'E', '..-.': 'F',\n",
    "    '--.': 'G', '....': 'H', '..': 'I', '.---': 'J', '-.-': 'K', '.-..': 'L',\n",
    "    '--': 'M', '-.': 'N', '---': 'O', '.--.': 'P', '--.-': 'Q', '.-.': 'R',\n",
    "    '...': 'S', '-': 'T', '..-': 'U', '...-': 'V', '.--': 'W', '-..-': 'X',\n",
    "    '-.--': 'Y', '--..': 'Z'\n",
    "}\n"
   ]
  },
  {
   "cell_type": "code",
   "execution_count": 33,
   "metadata": {
    "id": "Wc_Agk4rQEJl"
   },
   "outputs": [
    {
     "name": "stdout",
     "output_type": "stream",
     "text": [
      "I\n",
      "L\n",
      "O\n",
      "V\n",
      "E\n",
      "Y\n",
      "O\n",
      "U\n",
      "T\n",
      "H\n",
      "R\n",
      "E\n",
      "E\n",
      "T\n",
      "H\n",
      "O\n",
      "U\n",
      "S\n",
      "A\n",
      "N\n",
      "D\n"
     ]
    },
    {
     "data": {
      "text/plain": [
       "'.. .-.. --- ...- . -.-- --- ..- - .... .-. . . - .... --- ..- ... .- -. -..'"
      ]
     },
     "execution_count": 33,
     "metadata": {},
     "output_type": "execute_result"
    }
   ],
   "source": [
    "for i in \".. .-.. --- ...- . -.-- --- ..- - .... .-. . . - .... --- ..- ... .- -. -..\".split():\n",
    "    print(dic[i])\n",
    "    \n",
    "    \n"
   ]
  },
  {
   "cell_type": "code",
   "execution_count": 38,
   "metadata": {},
   "outputs": [
    {
     "data": {
      "text/plain": [
       "'.., .-.. --- ...- ., -.-- --- ..-, - .... .-. . . - .... --- ..- ... .- -. -..'"
      ]
     },
     "execution_count": 38,
     "metadata": {},
     "output_type": "execute_result"
    }
   ],
   "source": [
    "\"..  .-.. --- ...- .  -.-- --- ..-  - .... .-. . . - .... --- ..- ... .- -. -..\".replace('  ', ', ')\n",
    "\n",
    "#\"  \" 안 나눠져있음\n"
   ]
  },
  {
   "cell_type": "markdown",
   "metadata": {
    "id": "LUxD9FI2hCZd"
   },
   "source": [
    "# 10. 두 개의 정수를 입력하고, 두 수의 크기를 비교하는 코드를 완성해보세요."
   ]
  },
  {
   "cell_type": "code",
   "execution_count": 32,
   "metadata": {
    "id": "HXFn5DuwQEJm"
   },
   "outputs": [
    {
     "name": "stdout",
     "output_type": "stream",
     "text": [
      "정수를 입력해 주세요:3\n",
      "정수를 입력해 주세요:67\n",
      "67가 큽니다\n"
     ]
    }
   ],
   "source": [
    "a = int(input(\"정수를 입력해 주세요:\" ))\n",
    "b = int(input(\"정수를 입력해 주세요:\" ))\n",
    "\n",
    "if a > b:\n",
    "    print('{}가 큽니다'.format(a))\n",
    "elif a < b:\n",
    "    print('{}가 큽니다'.format(b))\n",
    "else:\n",
    "    print('같습니다')"
   ]
  },
  {
   "cell_type": "code",
   "execution_count": null,
   "metadata": {},
   "outputs": [],
   "source": []
  }
 ],
 "metadata": {
  "colab": {
   "collapsed_sections": [],
   "name": "Python_입문과정_과제1-2_연산자와 흐름제어.ipynb",
   "provenance": [],
   "toc_visible": true
  },
  "kernelspec": {
   "display_name": "Python 3",
   "language": "python",
   "name": "python3"
  },
  "language_info": {
   "codemirror_mode": {
    "name": "ipython",
    "version": 3
   },
   "file_extension": ".py",
   "mimetype": "text/x-python",
   "name": "python",
   "nbconvert_exporter": "python",
   "pygments_lexer": "ipython3",
   "version": "3.8.10"
  }
 },
 "nbformat": 4,
 "nbformat_minor": 1
}
